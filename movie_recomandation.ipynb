{
 "cells": [
  {
   "cell_type": "markdown",
   "id": "4dfe03e0",
   "metadata": {},
   "source": [
    "# Movie Recommendation System \n",
    "### Task 2\n",
    "## CodeClause Data Science Internship\n",
    "### Tridib Dalui"
   ]
  },
  {
   "cell_type": "code",
   "execution_count": 38,
   "id": "d266c040",
   "metadata": {},
   "outputs": [],
   "source": [
    "import numpy as np\n",
    "import pandas as pd"
   ]
  },
  {
   "cell_type": "code",
   "execution_count": 39,
   "id": "2d439129",
   "metadata": {},
   "outputs": [],
   "source": [
    "dm=pd.read_csv('tmdb_5000_movies.csv')\n",
    "dc=pd.read_csv('tmdb_5000_credits.csv')"
   ]
  },
  {
   "cell_type": "markdown",
   "id": "1d1f2a06",
   "metadata": {},
   "source": [
    "## Data cleaning"
   ]
  },
  {
   "cell_type": "code",
   "execution_count": 40,
   "id": "838029e7",
   "metadata": {},
   "outputs": [
    {
     "data": {
      "text/html": [
       "<div>\n",
       "<style scoped>\n",
       "    .dataframe tbody tr th:only-of-type {\n",
       "        vertical-align: middle;\n",
       "    }\n",
       "\n",
       "    .dataframe tbody tr th {\n",
       "        vertical-align: top;\n",
       "    }\n",
       "\n",
       "    .dataframe thead th {\n",
       "        text-align: right;\n",
       "    }\n",
       "</style>\n",
       "<table border=\"1\" class=\"dataframe\">\n",
       "  <thead>\n",
       "    <tr style=\"text-align: right;\">\n",
       "      <th></th>\n",
       "      <th>budget</th>\n",
       "      <th>genres</th>\n",
       "      <th>homepage</th>\n",
       "      <th>id</th>\n",
       "      <th>keywords</th>\n",
       "      <th>original_language</th>\n",
       "      <th>original_title</th>\n",
       "      <th>overview</th>\n",
       "      <th>popularity</th>\n",
       "      <th>production_companies</th>\n",
       "      <th>production_countries</th>\n",
       "      <th>release_date</th>\n",
       "      <th>revenue</th>\n",
       "      <th>runtime</th>\n",
       "      <th>spoken_languages</th>\n",
       "      <th>status</th>\n",
       "      <th>tagline</th>\n",
       "      <th>title</th>\n",
       "      <th>vote_average</th>\n",
       "      <th>vote_count</th>\n",
       "    </tr>\n",
       "  </thead>\n",
       "  <tbody>\n",
       "    <tr>\n",
       "      <th>4570</th>\n",
       "      <td>439000</td>\n",
       "      <td>[{\"id\": 10402, \"name\": \"Music\"}, {\"id\": 35, \"n...</td>\n",
       "      <td>NaN</td>\n",
       "      <td>3062</td>\n",
       "      <td>[{\"id\": 276, \"name\": \"philadelphia\"}, {\"id\": 4...</td>\n",
       "      <td>en</td>\n",
       "      <td>42nd Street</td>\n",
       "      <td>A producer puts on what may be his last Broadw...</td>\n",
       "      <td>1.933366</td>\n",
       "      <td>[{\"name\": \"Warner Bros.\", \"id\": 6194}]</td>\n",
       "      <td>[{\"iso_3166_1\": \"US\", \"name\": \"United States o...</td>\n",
       "      <td>1933-02-02</td>\n",
       "      <td>2281000</td>\n",
       "      <td>89.0</td>\n",
       "      <td>[{\"iso_639_1\": \"en\", \"name\": \"English\"}]</td>\n",
       "      <td>Released</td>\n",
       "      <td>NaN</td>\n",
       "      <td>42nd Street</td>\n",
       "      <td>6.1</td>\n",
       "      <td>37</td>\n",
       "    </tr>\n",
       "    <tr>\n",
       "      <th>1554</th>\n",
       "      <td>30000000</td>\n",
       "      <td>[{\"id\": 878, \"name\": \"Science Fiction\"}]</td>\n",
       "      <td>http://www.d-9.com/</td>\n",
       "      <td>17654</td>\n",
       "      <td>[{\"id\": 100, \"name\": \"slum\"}, {\"id\": 542, \"nam...</td>\n",
       "      <td>en</td>\n",
       "      <td>District 9</td>\n",
       "      <td>Aliens land in South Africa and, with their sh...</td>\n",
       "      <td>63.136780</td>\n",
       "      <td>[{\"name\": \"WingNut Films\", \"id\": 11}, {\"name\":...</td>\n",
       "      <td>[{\"iso_3166_1\": \"US\", \"name\": \"United States o...</td>\n",
       "      <td>2009-08-05</td>\n",
       "      <td>210819611</td>\n",
       "      <td>112.0</td>\n",
       "      <td>[{\"iso_639_1\": \"af\", \"name\": \"Afrikaans\"}, {\"i...</td>\n",
       "      <td>Released</td>\n",
       "      <td>You are not welcome here.</td>\n",
       "      <td>District 9</td>\n",
       "      <td>7.3</td>\n",
       "      <td>3382</td>\n",
       "    </tr>\n",
       "    <tr>\n",
       "      <th>3927</th>\n",
       "      <td>3000000</td>\n",
       "      <td>[{\"id\": 35, \"name\": \"Comedy\"}, {\"id\": 18, \"nam...</td>\n",
       "      <td>http://www.sonyclassics.com/pleasegive/</td>\n",
       "      <td>40247</td>\n",
       "      <td>[{\"id\": 236, \"name\": \"suicide\"}, {\"id\": 242, \"...</td>\n",
       "      <td>en</td>\n",
       "      <td>Please Give</td>\n",
       "      <td>In New York City, a husband and wife butt head...</td>\n",
       "      <td>5.325156</td>\n",
       "      <td>[{\"name\": \"Sony Pictures Classics\", \"id\": 58},...</td>\n",
       "      <td>[{\"iso_3166_1\": \"US\", \"name\": \"United States o...</td>\n",
       "      <td>2010-01-22</td>\n",
       "      <td>0</td>\n",
       "      <td>90.0</td>\n",
       "      <td>[{\"iso_639_1\": \"en\", \"name\": \"English\"}]</td>\n",
       "      <td>Released</td>\n",
       "      <td>NaN</td>\n",
       "      <td>Please Give</td>\n",
       "      <td>6.0</td>\n",
       "      <td>57</td>\n",
       "    </tr>\n",
       "    <tr>\n",
       "      <th>1198</th>\n",
       "      <td>40000000</td>\n",
       "      <td>[{\"id\": 16, \"name\": \"Animation\"}, {\"id\": 35, \"...</td>\n",
       "      <td>http://www.escapeearthmovie.com/</td>\n",
       "      <td>68179</td>\n",
       "      <td>[{\"id\": 9831, \"name\": \"spaceship\"}, {\"id\": 995...</td>\n",
       "      <td>en</td>\n",
       "      <td>Escape from Planet Earth</td>\n",
       "      <td>Astronaut Scorch Supernova finds himself caugh...</td>\n",
       "      <td>18.142180</td>\n",
       "      <td>[{\"name\": \"Rainmaker Entertainment\", \"id\": 221...</td>\n",
       "      <td>[{\"iso_3166_1\": \"CA\", \"name\": \"Canada\"}, {\"iso...</td>\n",
       "      <td>2013-02-14</td>\n",
       "      <td>74597643</td>\n",
       "      <td>89.0</td>\n",
       "      <td>[{\"iso_639_1\": \"en\", \"name\": \"English\"}]</td>\n",
       "      <td>Released</td>\n",
       "      <td>Earth's greatest secrets are about to break out!</td>\n",
       "      <td>Escape from Planet Earth</td>\n",
       "      <td>5.7</td>\n",
       "      <td>332</td>\n",
       "    </tr>\n",
       "    <tr>\n",
       "      <th>3058</th>\n",
       "      <td>0</td>\n",
       "      <td>[{\"id\": 27, \"name\": \"Horror\"}, {\"id\": 53, \"nam...</td>\n",
       "      <td>NaN</td>\n",
       "      <td>134597</td>\n",
       "      <td>[{\"id\": 3070, \"name\": \"mercenary\"}, {\"id\": 850...</td>\n",
       "      <td>en</td>\n",
       "      <td>The Collection</td>\n",
       "      <td>Arkin escapes with his life from the vicious g...</td>\n",
       "      <td>16.361743</td>\n",
       "      <td>[{\"name\": \"Fortress Features\", \"id\": 5176}, {\"...</td>\n",
       "      <td>[{\"iso_3166_1\": \"US\", \"name\": \"United States o...</td>\n",
       "      <td>2012-09-21</td>\n",
       "      <td>6842058</td>\n",
       "      <td>94.0</td>\n",
       "      <td>[{\"iso_639_1\": \"en\", \"name\": \"English\"}]</td>\n",
       "      <td>Released</td>\n",
       "      <td>Every great collector has a vision.</td>\n",
       "      <td>The Collection</td>\n",
       "      <td>5.9</td>\n",
       "      <td>289</td>\n",
       "    </tr>\n",
       "  </tbody>\n",
       "</table>\n",
       "</div>"
      ],
      "text/plain": [
       "        budget                                             genres  \\\n",
       "4570    439000  [{\"id\": 10402, \"name\": \"Music\"}, {\"id\": 35, \"n...   \n",
       "1554  30000000           [{\"id\": 878, \"name\": \"Science Fiction\"}]   \n",
       "3927   3000000  [{\"id\": 35, \"name\": \"Comedy\"}, {\"id\": 18, \"nam...   \n",
       "1198  40000000  [{\"id\": 16, \"name\": \"Animation\"}, {\"id\": 35, \"...   \n",
       "3058         0  [{\"id\": 27, \"name\": \"Horror\"}, {\"id\": 53, \"nam...   \n",
       "\n",
       "                                     homepage      id  \\\n",
       "4570                                      NaN    3062   \n",
       "1554                      http://www.d-9.com/   17654   \n",
       "3927  http://www.sonyclassics.com/pleasegive/   40247   \n",
       "1198         http://www.escapeearthmovie.com/   68179   \n",
       "3058                                      NaN  134597   \n",
       "\n",
       "                                               keywords original_language  \\\n",
       "4570  [{\"id\": 276, \"name\": \"philadelphia\"}, {\"id\": 4...                en   \n",
       "1554  [{\"id\": 100, \"name\": \"slum\"}, {\"id\": 542, \"nam...                en   \n",
       "3927  [{\"id\": 236, \"name\": \"suicide\"}, {\"id\": 242, \"...                en   \n",
       "1198  [{\"id\": 9831, \"name\": \"spaceship\"}, {\"id\": 995...                en   \n",
       "3058  [{\"id\": 3070, \"name\": \"mercenary\"}, {\"id\": 850...                en   \n",
       "\n",
       "                original_title  \\\n",
       "4570               42nd Street   \n",
       "1554                District 9   \n",
       "3927               Please Give   \n",
       "1198  Escape from Planet Earth   \n",
       "3058            The Collection   \n",
       "\n",
       "                                               overview  popularity  \\\n",
       "4570  A producer puts on what may be his last Broadw...    1.933366   \n",
       "1554  Aliens land in South Africa and, with their sh...   63.136780   \n",
       "3927  In New York City, a husband and wife butt head...    5.325156   \n",
       "1198  Astronaut Scorch Supernova finds himself caugh...   18.142180   \n",
       "3058  Arkin escapes with his life from the vicious g...   16.361743   \n",
       "\n",
       "                                   production_companies  \\\n",
       "4570             [{\"name\": \"Warner Bros.\", \"id\": 6194}]   \n",
       "1554  [{\"name\": \"WingNut Films\", \"id\": 11}, {\"name\":...   \n",
       "3927  [{\"name\": \"Sony Pictures Classics\", \"id\": 58},...   \n",
       "1198  [{\"name\": \"Rainmaker Entertainment\", \"id\": 221...   \n",
       "3058  [{\"name\": \"Fortress Features\", \"id\": 5176}, {\"...   \n",
       "\n",
       "                                   production_countries release_date  \\\n",
       "4570  [{\"iso_3166_1\": \"US\", \"name\": \"United States o...   1933-02-02   \n",
       "1554  [{\"iso_3166_1\": \"US\", \"name\": \"United States o...   2009-08-05   \n",
       "3927  [{\"iso_3166_1\": \"US\", \"name\": \"United States o...   2010-01-22   \n",
       "1198  [{\"iso_3166_1\": \"CA\", \"name\": \"Canada\"}, {\"iso...   2013-02-14   \n",
       "3058  [{\"iso_3166_1\": \"US\", \"name\": \"United States o...   2012-09-21   \n",
       "\n",
       "        revenue  runtime                                   spoken_languages  \\\n",
       "4570    2281000     89.0           [{\"iso_639_1\": \"en\", \"name\": \"English\"}]   \n",
       "1554  210819611    112.0  [{\"iso_639_1\": \"af\", \"name\": \"Afrikaans\"}, {\"i...   \n",
       "3927          0     90.0           [{\"iso_639_1\": \"en\", \"name\": \"English\"}]   \n",
       "1198   74597643     89.0           [{\"iso_639_1\": \"en\", \"name\": \"English\"}]   \n",
       "3058    6842058     94.0           [{\"iso_639_1\": \"en\", \"name\": \"English\"}]   \n",
       "\n",
       "        status                                           tagline  \\\n",
       "4570  Released                                               NaN   \n",
       "1554  Released                         You are not welcome here.   \n",
       "3927  Released                                               NaN   \n",
       "1198  Released  Earth's greatest secrets are about to break out!   \n",
       "3058  Released               Every great collector has a vision.   \n",
       "\n",
       "                         title  vote_average  vote_count  \n",
       "4570               42nd Street           6.1          37  \n",
       "1554                District 9           7.3        3382  \n",
       "3927               Please Give           6.0          57  \n",
       "1198  Escape from Planet Earth           5.7         332  \n",
       "3058            The Collection           5.9         289  "
      ]
     },
     "execution_count": 40,
     "metadata": {},
     "output_type": "execute_result"
    }
   ],
   "source": [
    "dm.sample(5)"
   ]
  },
  {
   "cell_type": "code",
   "execution_count": 41,
   "id": "1121db28",
   "metadata": {},
   "outputs": [
    {
     "data": {
      "text/plain": [
       "(4803, 20)"
      ]
     },
     "execution_count": 41,
     "metadata": {},
     "output_type": "execute_result"
    }
   ],
   "source": [
    "dm.shape"
   ]
  },
  {
   "cell_type": "code",
   "execution_count": 42,
   "id": "d5e38ce4",
   "metadata": {},
   "outputs": [
    {
     "data": {
      "text/html": [
       "<div>\n",
       "<style scoped>\n",
       "    .dataframe tbody tr th:only-of-type {\n",
       "        vertical-align: middle;\n",
       "    }\n",
       "\n",
       "    .dataframe tbody tr th {\n",
       "        vertical-align: top;\n",
       "    }\n",
       "\n",
       "    .dataframe thead th {\n",
       "        text-align: right;\n",
       "    }\n",
       "</style>\n",
       "<table border=\"1\" class=\"dataframe\">\n",
       "  <thead>\n",
       "    <tr style=\"text-align: right;\">\n",
       "      <th></th>\n",
       "      <th>movie_id</th>\n",
       "      <th>title</th>\n",
       "      <th>cast</th>\n",
       "      <th>crew</th>\n",
       "    </tr>\n",
       "  </thead>\n",
       "  <tbody>\n",
       "    <tr>\n",
       "      <th>3254</th>\n",
       "      <td>13751</td>\n",
       "      <td>Akeelah and the Bee</td>\n",
       "      <td>[{\"cast_id\": 1, \"character\": \"Akeelah\", \"credi...</td>\n",
       "      <td>[{\"credit_id\": \"569ae7cc9251410cc6001211\", \"de...</td>\n",
       "    </tr>\n",
       "    <tr>\n",
       "      <th>1025</th>\n",
       "      <td>913</td>\n",
       "      <td>The Thomas Crown Affair</td>\n",
       "      <td>[{\"cast_id\": 16, \"character\": \"Thomas Crown\", ...</td>\n",
       "      <td>[{\"credit_id\": \"52fe428cc3a36847f8027377\", \"de...</td>\n",
       "    </tr>\n",
       "    <tr>\n",
       "      <th>1473</th>\n",
       "      <td>2900</td>\n",
       "      <td>The Astronaut's Wife</td>\n",
       "      <td>[{\"cast_id\": 16, \"character\": \"Commander Spenc...</td>\n",
       "      <td>[{\"credit_id\": \"52fe4373c3a36847f805529f\", \"de...</td>\n",
       "    </tr>\n",
       "    <tr>\n",
       "      <th>2997</th>\n",
       "      <td>321258</td>\n",
       "      <td>The Boy</td>\n",
       "      <td>[{\"cast_id\": 2, \"character\": \"Greta Evans\", \"c...</td>\n",
       "      <td>[{\"credit_id\": \"57465d589251415e63000c2d\", \"de...</td>\n",
       "    </tr>\n",
       "    <tr>\n",
       "      <th>2372</th>\n",
       "      <td>27380</td>\n",
       "      <td>Megaforce</td>\n",
       "      <td>[{\"cast_id\": 14, \"character\": \"Ace Hunter\", \"c...</td>\n",
       "      <td>[{\"credit_id\": \"5765e851c3a3687fd10010d4\", \"de...</td>\n",
       "    </tr>\n",
       "  </tbody>\n",
       "</table>\n",
       "</div>"
      ],
      "text/plain": [
       "      movie_id                    title  \\\n",
       "3254     13751      Akeelah and the Bee   \n",
       "1025       913  The Thomas Crown Affair   \n",
       "1473      2900     The Astronaut's Wife   \n",
       "2997    321258                  The Boy   \n",
       "2372     27380                Megaforce   \n",
       "\n",
       "                                                   cast  \\\n",
       "3254  [{\"cast_id\": 1, \"character\": \"Akeelah\", \"credi...   \n",
       "1025  [{\"cast_id\": 16, \"character\": \"Thomas Crown\", ...   \n",
       "1473  [{\"cast_id\": 16, \"character\": \"Commander Spenc...   \n",
       "2997  [{\"cast_id\": 2, \"character\": \"Greta Evans\", \"c...   \n",
       "2372  [{\"cast_id\": 14, \"character\": \"Ace Hunter\", \"c...   \n",
       "\n",
       "                                                   crew  \n",
       "3254  [{\"credit_id\": \"569ae7cc9251410cc6001211\", \"de...  \n",
       "1025  [{\"credit_id\": \"52fe428cc3a36847f8027377\", \"de...  \n",
       "1473  [{\"credit_id\": \"52fe4373c3a36847f805529f\", \"de...  \n",
       "2997  [{\"credit_id\": \"57465d589251415e63000c2d\", \"de...  \n",
       "2372  [{\"credit_id\": \"5765e851c3a3687fd10010d4\", \"de...  "
      ]
     },
     "execution_count": 42,
     "metadata": {},
     "output_type": "execute_result"
    }
   ],
   "source": [
    "dc.sample(5)"
   ]
  },
  {
   "cell_type": "code",
   "execution_count": 43,
   "id": "4eeccb1d",
   "metadata": {},
   "outputs": [
    {
     "data": {
      "text/plain": [
       "(4803, 4)"
      ]
     },
     "execution_count": 43,
     "metadata": {},
     "output_type": "execute_result"
    }
   ],
   "source": [
    "dc.shape"
   ]
  },
  {
   "cell_type": "markdown",
   "id": "9fabae0f",
   "metadata": {},
   "source": [
    "#### lets merge this two dataframe with respect to title"
   ]
  },
  {
   "cell_type": "code",
   "execution_count": 44,
   "id": "ac406b45",
   "metadata": {},
   "outputs": [],
   "source": [
    "df=dm.merge(dc,on='title')"
   ]
  },
  {
   "cell_type": "code",
   "execution_count": 45,
   "id": "137114d7",
   "metadata": {},
   "outputs": [
    {
     "data": {
      "text/html": [
       "<div>\n",
       "<style scoped>\n",
       "    .dataframe tbody tr th:only-of-type {\n",
       "        vertical-align: middle;\n",
       "    }\n",
       "\n",
       "    .dataframe tbody tr th {\n",
       "        vertical-align: top;\n",
       "    }\n",
       "\n",
       "    .dataframe thead th {\n",
       "        text-align: right;\n",
       "    }\n",
       "</style>\n",
       "<table border=\"1\" class=\"dataframe\">\n",
       "  <thead>\n",
       "    <tr style=\"text-align: right;\">\n",
       "      <th></th>\n",
       "      <th>budget</th>\n",
       "      <th>genres</th>\n",
       "      <th>homepage</th>\n",
       "      <th>id</th>\n",
       "      <th>keywords</th>\n",
       "      <th>original_language</th>\n",
       "      <th>original_title</th>\n",
       "      <th>overview</th>\n",
       "      <th>popularity</th>\n",
       "      <th>production_companies</th>\n",
       "      <th>...</th>\n",
       "      <th>runtime</th>\n",
       "      <th>spoken_languages</th>\n",
       "      <th>status</th>\n",
       "      <th>tagline</th>\n",
       "      <th>title</th>\n",
       "      <th>vote_average</th>\n",
       "      <th>vote_count</th>\n",
       "      <th>movie_id</th>\n",
       "      <th>cast</th>\n",
       "      <th>crew</th>\n",
       "    </tr>\n",
       "  </thead>\n",
       "  <tbody>\n",
       "    <tr>\n",
       "      <th>1218</th>\n",
       "      <td>65000000</td>\n",
       "      <td>[{\"id\": 18, \"name\": \"Drama\"}, {\"id\": 10749, \"n...</td>\n",
       "      <td>NaN</td>\n",
       "      <td>10641</td>\n",
       "      <td>[{\"id\": 1605, \"name\": \"new love\"}, {\"id\": 2038...</td>\n",
       "      <td>en</td>\n",
       "      <td>Autumn in New York</td>\n",
       "      <td>Autumn in New York follows the sexual exploits...</td>\n",
       "      <td>8.680334</td>\n",
       "      <td>[{\"name\": \"Lakeshore Entertainment\", \"id\": 126...</td>\n",
       "      <td>...</td>\n",
       "      <td>103.0</td>\n",
       "      <td>[{\"iso_639_1\": \"en\", \"name\": \"English\"}]</td>\n",
       "      <td>Released</td>\n",
       "      <td>He fell in love for the first time. She fell i...</td>\n",
       "      <td>Autumn in New York</td>\n",
       "      <td>5.7</td>\n",
       "      <td>135</td>\n",
       "      <td>10641</td>\n",
       "      <td>[{\"cast_id\": 1, \"character\": \"Will Keane\", \"cr...</td>\n",
       "      <td>[{\"credit_id\": \"52fe439a9251416c75016d65\", \"de...</td>\n",
       "    </tr>\n",
       "    <tr>\n",
       "      <th>3442</th>\n",
       "      <td>6500000</td>\n",
       "      <td>[{\"id\": 28, \"name\": \"Action\"}, {\"id\": 18, \"nam...</td>\n",
       "      <td>http://www.trackerthemovie.com/</td>\n",
       "      <td>62255</td>\n",
       "      <td>[]</td>\n",
       "      <td>en</td>\n",
       "      <td>Tracker</td>\n",
       "      <td>An ex-Boer war guerrilla in New Zealand is sen...</td>\n",
       "      <td>2.074295</td>\n",
       "      <td>[{\"name\": \"T.H.E. Films\", \"id\": 668}, {\"name\":...</td>\n",
       "      <td>...</td>\n",
       "      <td>102.0</td>\n",
       "      <td>[{\"iso_639_1\": \"en\", \"name\": \"English\"}]</td>\n",
       "      <td>Released</td>\n",
       "      <td>NaN</td>\n",
       "      <td>Tracker</td>\n",
       "      <td>6.0</td>\n",
       "      <td>16</td>\n",
       "      <td>62255</td>\n",
       "      <td>[{\"cast_id\": 1, \"character\": \"Arjan\", \"credit_...</td>\n",
       "      <td>[{\"credit_id\": \"56d1879ec3a3681e3e009e73\", \"de...</td>\n",
       "    </tr>\n",
       "    <tr>\n",
       "      <th>3154</th>\n",
       "      <td>12899867</td>\n",
       "      <td>[{\"id\": 35, \"name\": \"Comedy\"}, {\"id\": 18, \"nam...</td>\n",
       "      <td>http://www.volver-lapelicula.com</td>\n",
       "      <td>219</td>\n",
       "      <td>[{\"id\": 516, \"name\": \"child abuse\"}, {\"id\": 57...</td>\n",
       "      <td>es</td>\n",
       "      <td>Volver</td>\n",
       "      <td>Raimunda (Penélope Cruz) works and lives Madri...</td>\n",
       "      <td>19.747809</td>\n",
       "      <td>[{\"name\": \"El Deseo\", \"id\": 49}]</td>\n",
       "      <td>...</td>\n",
       "      <td>121.0</td>\n",
       "      <td>[{\"iso_639_1\": \"es\", \"name\": \"Espa\\u00f1ol\"}]</td>\n",
       "      <td>Released</td>\n",
       "      <td>Return.</td>\n",
       "      <td>Volver</td>\n",
       "      <td>7.3</td>\n",
       "      <td>406</td>\n",
       "      <td>219</td>\n",
       "      <td>[{\"cast_id\": 3, \"character\": \"Raimunda\", \"cred...</td>\n",
       "      <td>[{\"credit_id\": \"52fe4228c3a36847f8008629\", \"de...</td>\n",
       "    </tr>\n",
       "    <tr>\n",
       "      <th>3387</th>\n",
       "      <td>7000000</td>\n",
       "      <td>[{\"id\": 28, \"name\": \"Action\"}, {\"id\": 18, \"nam...</td>\n",
       "      <td>http://www.themightymacs.com/</td>\n",
       "      <td>48620</td>\n",
       "      <td>[{\"id\": 6075, \"name\": \"sport\"}, {\"id\": 18396, ...</td>\n",
       "      <td>en</td>\n",
       "      <td>The Mighty Macs</td>\n",
       "      <td>In the early 70s, Cathy Rush becomes the head ...</td>\n",
       "      <td>2.932784</td>\n",
       "      <td>[]</td>\n",
       "      <td>...</td>\n",
       "      <td>102.0</td>\n",
       "      <td>[{\"iso_639_1\": \"en\", \"name\": \"English\"}]</td>\n",
       "      <td>Released</td>\n",
       "      <td>NaN</td>\n",
       "      <td>The Mighty Macs</td>\n",
       "      <td>5.0</td>\n",
       "      <td>15</td>\n",
       "      <td>48620</td>\n",
       "      <td>[{\"cast_id\": 1001, \"character\": \"Cathy Rush\", ...</td>\n",
       "      <td>[{\"credit_id\": \"52fe476ec3a36847f813528d\", \"de...</td>\n",
       "    </tr>\n",
       "    <tr>\n",
       "      <th>2510</th>\n",
       "      <td>15600000</td>\n",
       "      <td>[{\"id\": 35, \"name\": \"Comedy\"}, {\"id\": 18, \"nam...</td>\n",
       "      <td>http://www.juwannamann.com/</td>\n",
       "      <td>35696</td>\n",
       "      <td>[{\"id\": 6075, \"name\": \"sport\"}, {\"id\": 6496, \"...</td>\n",
       "      <td>en</td>\n",
       "      <td>Juwanna Mann</td>\n",
       "      <td>A basketball star is booted out of the NBA whe...</td>\n",
       "      <td>2.244947</td>\n",
       "      <td>[{\"name\": \"Warner Bros.\", \"id\": 6194}, {\"name\"...</td>\n",
       "      <td>...</td>\n",
       "      <td>91.0</td>\n",
       "      <td>[{\"iso_639_1\": \"en\", \"name\": \"English\"}]</td>\n",
       "      <td>Released</td>\n",
       "      <td>NaN</td>\n",
       "      <td>Juwanna Mann</td>\n",
       "      <td>4.2</td>\n",
       "      <td>20</td>\n",
       "      <td>35696</td>\n",
       "      <td>[{\"cast_id\": 1, \"character\": \"Jamal Jefferies ...</td>\n",
       "      <td>[{\"credit_id\": \"52fe45b19251416c9103b0f9\", \"de...</td>\n",
       "    </tr>\n",
       "  </tbody>\n",
       "</table>\n",
       "<p>5 rows × 23 columns</p>\n",
       "</div>"
      ],
      "text/plain": [
       "        budget                                             genres  \\\n",
       "1218  65000000  [{\"id\": 18, \"name\": \"Drama\"}, {\"id\": 10749, \"n...   \n",
       "3442   6500000  [{\"id\": 28, \"name\": \"Action\"}, {\"id\": 18, \"nam...   \n",
       "3154  12899867  [{\"id\": 35, \"name\": \"Comedy\"}, {\"id\": 18, \"nam...   \n",
       "3387   7000000  [{\"id\": 28, \"name\": \"Action\"}, {\"id\": 18, \"nam...   \n",
       "2510  15600000  [{\"id\": 35, \"name\": \"Comedy\"}, {\"id\": 18, \"nam...   \n",
       "\n",
       "                              homepage     id  \\\n",
       "1218                               NaN  10641   \n",
       "3442   http://www.trackerthemovie.com/  62255   \n",
       "3154  http://www.volver-lapelicula.com    219   \n",
       "3387     http://www.themightymacs.com/  48620   \n",
       "2510       http://www.juwannamann.com/  35696   \n",
       "\n",
       "                                               keywords original_language  \\\n",
       "1218  [{\"id\": 1605, \"name\": \"new love\"}, {\"id\": 2038...                en   \n",
       "3442                                                 []                en   \n",
       "3154  [{\"id\": 516, \"name\": \"child abuse\"}, {\"id\": 57...                es   \n",
       "3387  [{\"id\": 6075, \"name\": \"sport\"}, {\"id\": 18396, ...                en   \n",
       "2510  [{\"id\": 6075, \"name\": \"sport\"}, {\"id\": 6496, \"...                en   \n",
       "\n",
       "          original_title                                           overview  \\\n",
       "1218  Autumn in New York  Autumn in New York follows the sexual exploits...   \n",
       "3442             Tracker  An ex-Boer war guerrilla in New Zealand is sen...   \n",
       "3154              Volver  Raimunda (Penélope Cruz) works and lives Madri...   \n",
       "3387     The Mighty Macs  In the early 70s, Cathy Rush becomes the head ...   \n",
       "2510        Juwanna Mann  A basketball star is booted out of the NBA whe...   \n",
       "\n",
       "      popularity                               production_companies  ...  \\\n",
       "1218    8.680334  [{\"name\": \"Lakeshore Entertainment\", \"id\": 126...  ...   \n",
       "3442    2.074295  [{\"name\": \"T.H.E. Films\", \"id\": 668}, {\"name\":...  ...   \n",
       "3154   19.747809                   [{\"name\": \"El Deseo\", \"id\": 49}]  ...   \n",
       "3387    2.932784                                                 []  ...   \n",
       "2510    2.244947  [{\"name\": \"Warner Bros.\", \"id\": 6194}, {\"name\"...  ...   \n",
       "\n",
       "     runtime                               spoken_languages    status  \\\n",
       "1218   103.0       [{\"iso_639_1\": \"en\", \"name\": \"English\"}]  Released   \n",
       "3442   102.0       [{\"iso_639_1\": \"en\", \"name\": \"English\"}]  Released   \n",
       "3154   121.0  [{\"iso_639_1\": \"es\", \"name\": \"Espa\\u00f1ol\"}]  Released   \n",
       "3387   102.0       [{\"iso_639_1\": \"en\", \"name\": \"English\"}]  Released   \n",
       "2510    91.0       [{\"iso_639_1\": \"en\", \"name\": \"English\"}]  Released   \n",
       "\n",
       "                                                tagline               title  \\\n",
       "1218  He fell in love for the first time. She fell i...  Autumn in New York   \n",
       "3442                                                NaN             Tracker   \n",
       "3154                                            Return.              Volver   \n",
       "3387                                                NaN     The Mighty Macs   \n",
       "2510                                                NaN        Juwanna Mann   \n",
       "\n",
       "     vote_average vote_count movie_id  \\\n",
       "1218          5.7        135    10641   \n",
       "3442          6.0         16    62255   \n",
       "3154          7.3        406      219   \n",
       "3387          5.0         15    48620   \n",
       "2510          4.2         20    35696   \n",
       "\n",
       "                                                   cast  \\\n",
       "1218  [{\"cast_id\": 1, \"character\": \"Will Keane\", \"cr...   \n",
       "3442  [{\"cast_id\": 1, \"character\": \"Arjan\", \"credit_...   \n",
       "3154  [{\"cast_id\": 3, \"character\": \"Raimunda\", \"cred...   \n",
       "3387  [{\"cast_id\": 1001, \"character\": \"Cathy Rush\", ...   \n",
       "2510  [{\"cast_id\": 1, \"character\": \"Jamal Jefferies ...   \n",
       "\n",
       "                                                   crew  \n",
       "1218  [{\"credit_id\": \"52fe439a9251416c75016d65\", \"de...  \n",
       "3442  [{\"credit_id\": \"56d1879ec3a3681e3e009e73\", \"de...  \n",
       "3154  [{\"credit_id\": \"52fe4228c3a36847f8008629\", \"de...  \n",
       "3387  [{\"credit_id\": \"52fe476ec3a36847f813528d\", \"de...  \n",
       "2510  [{\"credit_id\": \"52fe45b19251416c9103b0f9\", \"de...  \n",
       "\n",
       "[5 rows x 23 columns]"
      ]
     },
     "execution_count": 45,
     "metadata": {},
     "output_type": "execute_result"
    }
   ],
   "source": [
    "df.sample(5)"
   ]
  },
  {
   "cell_type": "code",
   "execution_count": 46,
   "id": "387a90aa",
   "metadata": {},
   "outputs": [
    {
     "data": {
      "text/plain": [
       "(4809, 23)"
      ]
     },
     "execution_count": 46,
     "metadata": {},
     "output_type": "execute_result"
    }
   ],
   "source": [
    "df.shape"
   ]
  },
  {
   "cell_type": "code",
   "execution_count": 47,
   "id": "c6091566",
   "metadata": {},
   "outputs": [
    {
     "data": {
      "text/plain": [
       "Index(['budget', 'genres', 'homepage', 'id', 'keywords', 'original_language',\n",
       "       'original_title', 'overview', 'popularity', 'production_companies',\n",
       "       'production_countries', 'release_date', 'revenue', 'runtime',\n",
       "       'spoken_languages', 'status', 'tagline', 'title', 'vote_average',\n",
       "       'vote_count', 'movie_id', 'cast', 'crew'],\n",
       "      dtype='object')"
      ]
     },
     "execution_count": 47,
     "metadata": {},
     "output_type": "execute_result"
    }
   ],
   "source": [
    "df.columns"
   ]
  },
  {
   "cell_type": "markdown",
   "id": "d29fbbf7",
   "metadata": {},
   "source": [
    "we need to take only the necessary columns"
   ]
  },
  {
   "cell_type": "code",
   "execution_count": 48,
   "id": "03202c27",
   "metadata": {},
   "outputs": [],
   "source": [
    "df=df[['genres','id','keywords','overview','title','cast','crew']]"
   ]
  },
  {
   "cell_type": "code",
   "execution_count": 49,
   "id": "af0f50be",
   "metadata": {},
   "outputs": [
    {
     "data": {
      "text/html": [
       "<div>\n",
       "<style scoped>\n",
       "    .dataframe tbody tr th:only-of-type {\n",
       "        vertical-align: middle;\n",
       "    }\n",
       "\n",
       "    .dataframe tbody tr th {\n",
       "        vertical-align: top;\n",
       "    }\n",
       "\n",
       "    .dataframe thead th {\n",
       "        text-align: right;\n",
       "    }\n",
       "</style>\n",
       "<table border=\"1\" class=\"dataframe\">\n",
       "  <thead>\n",
       "    <tr style=\"text-align: right;\">\n",
       "      <th></th>\n",
       "      <th>genres</th>\n",
       "      <th>id</th>\n",
       "      <th>keywords</th>\n",
       "      <th>overview</th>\n",
       "      <th>title</th>\n",
       "      <th>cast</th>\n",
       "      <th>crew</th>\n",
       "    </tr>\n",
       "  </thead>\n",
       "  <tbody>\n",
       "    <tr>\n",
       "      <th>0</th>\n",
       "      <td>[{\"id\": 28, \"name\": \"Action\"}, {\"id\": 12, \"nam...</td>\n",
       "      <td>19995</td>\n",
       "      <td>[{\"id\": 1463, \"name\": \"culture clash\"}, {\"id\":...</td>\n",
       "      <td>In the 22nd century, a paraplegic Marine is di...</td>\n",
       "      <td>Avatar</td>\n",
       "      <td>[{\"cast_id\": 242, \"character\": \"Jake Sully\", \"...</td>\n",
       "      <td>[{\"credit_id\": \"52fe48009251416c750aca23\", \"de...</td>\n",
       "    </tr>\n",
       "    <tr>\n",
       "      <th>1</th>\n",
       "      <td>[{\"id\": 12, \"name\": \"Adventure\"}, {\"id\": 14, \"...</td>\n",
       "      <td>285</td>\n",
       "      <td>[{\"id\": 270, \"name\": \"ocean\"}, {\"id\": 726, \"na...</td>\n",
       "      <td>Captain Barbossa, long believed to be dead, ha...</td>\n",
       "      <td>Pirates of the Caribbean: At World's End</td>\n",
       "      <td>[{\"cast_id\": 4, \"character\": \"Captain Jack Spa...</td>\n",
       "      <td>[{\"credit_id\": \"52fe4232c3a36847f800b579\", \"de...</td>\n",
       "    </tr>\n",
       "    <tr>\n",
       "      <th>2</th>\n",
       "      <td>[{\"id\": 28, \"name\": \"Action\"}, {\"id\": 12, \"nam...</td>\n",
       "      <td>206647</td>\n",
       "      <td>[{\"id\": 470, \"name\": \"spy\"}, {\"id\": 818, \"name...</td>\n",
       "      <td>A cryptic message from Bond’s past sends him o...</td>\n",
       "      <td>Spectre</td>\n",
       "      <td>[{\"cast_id\": 1, \"character\": \"James Bond\", \"cr...</td>\n",
       "      <td>[{\"credit_id\": \"54805967c3a36829b5002c41\", \"de...</td>\n",
       "    </tr>\n",
       "    <tr>\n",
       "      <th>3</th>\n",
       "      <td>[{\"id\": 28, \"name\": \"Action\"}, {\"id\": 80, \"nam...</td>\n",
       "      <td>49026</td>\n",
       "      <td>[{\"id\": 849, \"name\": \"dc comics\"}, {\"id\": 853,...</td>\n",
       "      <td>Following the death of District Attorney Harve...</td>\n",
       "      <td>The Dark Knight Rises</td>\n",
       "      <td>[{\"cast_id\": 2, \"character\": \"Bruce Wayne / Ba...</td>\n",
       "      <td>[{\"credit_id\": \"52fe4781c3a36847f81398c3\", \"de...</td>\n",
       "    </tr>\n",
       "    <tr>\n",
       "      <th>4</th>\n",
       "      <td>[{\"id\": 28, \"name\": \"Action\"}, {\"id\": 12, \"nam...</td>\n",
       "      <td>49529</td>\n",
       "      <td>[{\"id\": 818, \"name\": \"based on novel\"}, {\"id\":...</td>\n",
       "      <td>John Carter is a war-weary, former military ca...</td>\n",
       "      <td>John Carter</td>\n",
       "      <td>[{\"cast_id\": 5, \"character\": \"John Carter\", \"c...</td>\n",
       "      <td>[{\"credit_id\": \"52fe479ac3a36847f813eaa3\", \"de...</td>\n",
       "    </tr>\n",
       "  </tbody>\n",
       "</table>\n",
       "</div>"
      ],
      "text/plain": [
       "                                              genres      id  \\\n",
       "0  [{\"id\": 28, \"name\": \"Action\"}, {\"id\": 12, \"nam...   19995   \n",
       "1  [{\"id\": 12, \"name\": \"Adventure\"}, {\"id\": 14, \"...     285   \n",
       "2  [{\"id\": 28, \"name\": \"Action\"}, {\"id\": 12, \"nam...  206647   \n",
       "3  [{\"id\": 28, \"name\": \"Action\"}, {\"id\": 80, \"nam...   49026   \n",
       "4  [{\"id\": 28, \"name\": \"Action\"}, {\"id\": 12, \"nam...   49529   \n",
       "\n",
       "                                            keywords  \\\n",
       "0  [{\"id\": 1463, \"name\": \"culture clash\"}, {\"id\":...   \n",
       "1  [{\"id\": 270, \"name\": \"ocean\"}, {\"id\": 726, \"na...   \n",
       "2  [{\"id\": 470, \"name\": \"spy\"}, {\"id\": 818, \"name...   \n",
       "3  [{\"id\": 849, \"name\": \"dc comics\"}, {\"id\": 853,...   \n",
       "4  [{\"id\": 818, \"name\": \"based on novel\"}, {\"id\":...   \n",
       "\n",
       "                                            overview  \\\n",
       "0  In the 22nd century, a paraplegic Marine is di...   \n",
       "1  Captain Barbossa, long believed to be dead, ha...   \n",
       "2  A cryptic message from Bond’s past sends him o...   \n",
       "3  Following the death of District Attorney Harve...   \n",
       "4  John Carter is a war-weary, former military ca...   \n",
       "\n",
       "                                      title  \\\n",
       "0                                    Avatar   \n",
       "1  Pirates of the Caribbean: At World's End   \n",
       "2                                   Spectre   \n",
       "3                     The Dark Knight Rises   \n",
       "4                               John Carter   \n",
       "\n",
       "                                                cast  \\\n",
       "0  [{\"cast_id\": 242, \"character\": \"Jake Sully\", \"...   \n",
       "1  [{\"cast_id\": 4, \"character\": \"Captain Jack Spa...   \n",
       "2  [{\"cast_id\": 1, \"character\": \"James Bond\", \"cr...   \n",
       "3  [{\"cast_id\": 2, \"character\": \"Bruce Wayne / Ba...   \n",
       "4  [{\"cast_id\": 5, \"character\": \"John Carter\", \"c...   \n",
       "\n",
       "                                                crew  \n",
       "0  [{\"credit_id\": \"52fe48009251416c750aca23\", \"de...  \n",
       "1  [{\"credit_id\": \"52fe4232c3a36847f800b579\", \"de...  \n",
       "2  [{\"credit_id\": \"54805967c3a36829b5002c41\", \"de...  \n",
       "3  [{\"credit_id\": \"52fe4781c3a36847f81398c3\", \"de...  \n",
       "4  [{\"credit_id\": \"52fe479ac3a36847f813eaa3\", \"de...  "
      ]
     },
     "execution_count": 49,
     "metadata": {},
     "output_type": "execute_result"
    }
   ],
   "source": [
    "df.head()"
   ]
  },
  {
   "cell_type": "markdown",
   "id": "778eff4b",
   "metadata": {},
   "source": [
    "### Data Preprocessing"
   ]
  },
  {
   "cell_type": "code",
   "execution_count": 50,
   "id": "04d237d5",
   "metadata": {},
   "outputs": [
    {
     "data": {
      "text/plain": [
       "genres      0\n",
       "id          0\n",
       "keywords    0\n",
       "overview    3\n",
       "title       0\n",
       "cast        0\n",
       "crew        0\n",
       "dtype: int64"
      ]
     },
     "execution_count": 50,
     "metadata": {},
     "output_type": "execute_result"
    }
   ],
   "source": [
    "#checking for null values\n",
    "\n",
    "df.isna().sum()"
   ]
  },
  {
   "cell_type": "code",
   "execution_count": 51,
   "id": "a0af5eca",
   "metadata": {},
   "outputs": [],
   "source": [
    "#dropping the null columns\n",
    "\n",
    "df.dropna(inplace=True)"
   ]
  },
  {
   "cell_type": "code",
   "execution_count": 52,
   "id": "ef5087a7",
   "metadata": {},
   "outputs": [
    {
     "data": {
      "text/plain": [
       "0"
      ]
     },
     "execution_count": 52,
     "metadata": {},
     "output_type": "execute_result"
    }
   ],
   "source": [
    "#checking for duplicate Values\n",
    "\n",
    "df.duplicated().sum()"
   ]
  },
  {
   "cell_type": "markdown",
   "id": "c523a14c",
   "metadata": {},
   "source": [
    "#### To clean the columns and create tags"
   ]
  },
  {
   "cell_type": "code",
   "execution_count": 53,
   "id": "5ec13b4a",
   "metadata": {},
   "outputs": [],
   "source": [
    "import ast"
   ]
  },
  {
   "cell_type": "code",
   "execution_count": 54,
   "id": "8d81495a",
   "metadata": {},
   "outputs": [],
   "source": [
    "def convert1(obj):\n",
    "    l1=[]\n",
    "    for i in ast.literal_eval(obj):\n",
    "        l1.append(i['name'])\n",
    "    return l1"
   ]
  },
  {
   "cell_type": "markdown",
   "id": "3d5c27db",
   "metadata": {},
   "source": [
    "Now We need to clean the 'genres' column"
   ]
  },
  {
   "cell_type": "code",
   "execution_count": 55,
   "id": "fef590f3",
   "metadata": {},
   "outputs": [],
   "source": [
    "df['genres']=df['genres'].apply(convert1)"
   ]
  },
  {
   "cell_type": "markdown",
   "id": "84295bd4",
   "metadata": {},
   "source": [
    "Now lets do the same for 'keywords' column"
   ]
  },
  {
   "cell_type": "code",
   "execution_count": 56,
   "id": "6374b3c6",
   "metadata": {},
   "outputs": [],
   "source": [
    "df['keywords']=df['keywords'].apply(convert1)"
   ]
  },
  {
   "cell_type": "markdown",
   "id": "320480fb",
   "metadata": {},
   "source": [
    "we need to take top 3 cast of 'cast' column"
   ]
  },
  {
   "cell_type": "code",
   "execution_count": 57,
   "id": "f5556c7d",
   "metadata": {},
   "outputs": [],
   "source": [
    "def convert2(obj):\n",
    "    l2=[]\n",
    "    c=0\n",
    "    for i in ast.literal_eval(obj):\n",
    "        if c !=3:\n",
    "            l2.append(i['name'])\n",
    "            c=c+1\n",
    "        else:\n",
    "            break\n",
    "    return l2"
   ]
  },
  {
   "cell_type": "code",
   "execution_count": 58,
   "id": "ff4f9d6a",
   "metadata": {},
   "outputs": [],
   "source": [
    "df['cast']=df['cast'].apply(convert2)"
   ]
  },
  {
   "cell_type": "markdown",
   "id": "7812c6a2",
   "metadata": {},
   "source": [
    "To take only the director name from crew"
   ]
  },
  {
   "cell_type": "code",
   "execution_count": 59,
   "id": "03a0fc16",
   "metadata": {},
   "outputs": [],
   "source": [
    "def convert3(obj):\n",
    "    l3=[]\n",
    "    for i in ast.literal_eval(obj):\n",
    "        if i['job']== 'Director':\n",
    "            l3.append(i['name'])\n",
    "            break\n",
    "    return l3"
   ]
  },
  {
   "cell_type": "code",
   "execution_count": 60,
   "id": "30ebeb1a",
   "metadata": {},
   "outputs": [],
   "source": [
    "df['crew']=df['crew'].apply(convert3)"
   ]
  },
  {
   "cell_type": "markdown",
   "id": "7ab6d778",
   "metadata": {},
   "source": [
    "lets convert the overview column to a list "
   ]
  },
  {
   "cell_type": "code",
   "execution_count": 61,
   "id": "cbcfa202",
   "metadata": {},
   "outputs": [],
   "source": [
    "df['overview']=df['overview'].apply(lambda x:x.split())"
   ]
  },
  {
   "cell_type": "markdown",
   "id": "ec6724db",
   "metadata": {},
   "source": [
    "##### we need to remove the spaces in names to remove conflict"
   ]
  },
  {
   "cell_type": "code",
   "execution_count": 62,
   "id": "72a6a792",
   "metadata": {},
   "outputs": [],
   "source": [
    "df['genres']=df['genres'].apply(lambda x:[i.replace(\" \",\"\") for i in x])\n",
    "df['keywords']=df['keywords'].apply(lambda x:[i.replace(\" \",\"\") for i in x])\n",
    "df['cast']=df['cast'].apply(lambda x:[i.replace(\" \",\"\") for i in x])\n",
    "df['crew']=df['crew'].apply(lambda x:[i.replace(\" \",\"\") for i in x])\n"
   ]
  },
  {
   "cell_type": "code",
   "execution_count": 63,
   "id": "eb62e0a6",
   "metadata": {},
   "outputs": [
    {
     "data": {
      "text/html": [
       "<div>\n",
       "<style scoped>\n",
       "    .dataframe tbody tr th:only-of-type {\n",
       "        vertical-align: middle;\n",
       "    }\n",
       "\n",
       "    .dataframe tbody tr th {\n",
       "        vertical-align: top;\n",
       "    }\n",
       "\n",
       "    .dataframe thead th {\n",
       "        text-align: right;\n",
       "    }\n",
       "</style>\n",
       "<table border=\"1\" class=\"dataframe\">\n",
       "  <thead>\n",
       "    <tr style=\"text-align: right;\">\n",
       "      <th></th>\n",
       "      <th>genres</th>\n",
       "      <th>id</th>\n",
       "      <th>keywords</th>\n",
       "      <th>overview</th>\n",
       "      <th>title</th>\n",
       "      <th>cast</th>\n",
       "      <th>crew</th>\n",
       "    </tr>\n",
       "  </thead>\n",
       "  <tbody>\n",
       "    <tr>\n",
       "      <th>0</th>\n",
       "      <td>[Action, Adventure, Fantasy, ScienceFiction]</td>\n",
       "      <td>19995</td>\n",
       "      <td>[cultureclash, future, spacewar, spacecolony, ...</td>\n",
       "      <td>[In, the, 22nd, century,, a, paraplegic, Marin...</td>\n",
       "      <td>Avatar</td>\n",
       "      <td>[SamWorthington, ZoeSaldana, SigourneyWeaver]</td>\n",
       "      <td>[JamesCameron]</td>\n",
       "    </tr>\n",
       "    <tr>\n",
       "      <th>1</th>\n",
       "      <td>[Adventure, Fantasy, Action]</td>\n",
       "      <td>285</td>\n",
       "      <td>[ocean, drugabuse, exoticisland, eastindiatrad...</td>\n",
       "      <td>[Captain, Barbossa,, long, believed, to, be, d...</td>\n",
       "      <td>Pirates of the Caribbean: At World's End</td>\n",
       "      <td>[JohnnyDepp, OrlandoBloom, KeiraKnightley]</td>\n",
       "      <td>[GoreVerbinski]</td>\n",
       "    </tr>\n",
       "    <tr>\n",
       "      <th>2</th>\n",
       "      <td>[Action, Adventure, Crime]</td>\n",
       "      <td>206647</td>\n",
       "      <td>[spy, basedonnovel, secretagent, sequel, mi6, ...</td>\n",
       "      <td>[A, cryptic, message, from, Bond’s, past, send...</td>\n",
       "      <td>Spectre</td>\n",
       "      <td>[DanielCraig, ChristophWaltz, LéaSeydoux]</td>\n",
       "      <td>[SamMendes]</td>\n",
       "    </tr>\n",
       "    <tr>\n",
       "      <th>3</th>\n",
       "      <td>[Action, Crime, Drama, Thriller]</td>\n",
       "      <td>49026</td>\n",
       "      <td>[dccomics, crimefighter, terrorist, secretiden...</td>\n",
       "      <td>[Following, the, death, of, District, Attorney...</td>\n",
       "      <td>The Dark Knight Rises</td>\n",
       "      <td>[ChristianBale, MichaelCaine, GaryOldman]</td>\n",
       "      <td>[ChristopherNolan]</td>\n",
       "    </tr>\n",
       "    <tr>\n",
       "      <th>4</th>\n",
       "      <td>[Action, Adventure, ScienceFiction]</td>\n",
       "      <td>49529</td>\n",
       "      <td>[basedonnovel, mars, medallion, spacetravel, p...</td>\n",
       "      <td>[John, Carter, is, a, war-weary,, former, mili...</td>\n",
       "      <td>John Carter</td>\n",
       "      <td>[TaylorKitsch, LynnCollins, SamanthaMorton]</td>\n",
       "      <td>[AndrewStanton]</td>\n",
       "    </tr>\n",
       "  </tbody>\n",
       "</table>\n",
       "</div>"
      ],
      "text/plain": [
       "                                         genres      id  \\\n",
       "0  [Action, Adventure, Fantasy, ScienceFiction]   19995   \n",
       "1                  [Adventure, Fantasy, Action]     285   \n",
       "2                    [Action, Adventure, Crime]  206647   \n",
       "3              [Action, Crime, Drama, Thriller]   49026   \n",
       "4           [Action, Adventure, ScienceFiction]   49529   \n",
       "\n",
       "                                            keywords  \\\n",
       "0  [cultureclash, future, spacewar, spacecolony, ...   \n",
       "1  [ocean, drugabuse, exoticisland, eastindiatrad...   \n",
       "2  [spy, basedonnovel, secretagent, sequel, mi6, ...   \n",
       "3  [dccomics, crimefighter, terrorist, secretiden...   \n",
       "4  [basedonnovel, mars, medallion, spacetravel, p...   \n",
       "\n",
       "                                            overview  \\\n",
       "0  [In, the, 22nd, century,, a, paraplegic, Marin...   \n",
       "1  [Captain, Barbossa,, long, believed, to, be, d...   \n",
       "2  [A, cryptic, message, from, Bond’s, past, send...   \n",
       "3  [Following, the, death, of, District, Attorney...   \n",
       "4  [John, Carter, is, a, war-weary,, former, mili...   \n",
       "\n",
       "                                      title  \\\n",
       "0                                    Avatar   \n",
       "1  Pirates of the Caribbean: At World's End   \n",
       "2                                   Spectre   \n",
       "3                     The Dark Knight Rises   \n",
       "4                               John Carter   \n",
       "\n",
       "                                            cast                crew  \n",
       "0  [SamWorthington, ZoeSaldana, SigourneyWeaver]      [JamesCameron]  \n",
       "1     [JohnnyDepp, OrlandoBloom, KeiraKnightley]     [GoreVerbinski]  \n",
       "2      [DanielCraig, ChristophWaltz, LéaSeydoux]         [SamMendes]  \n",
       "3      [ChristianBale, MichaelCaine, GaryOldman]  [ChristopherNolan]  \n",
       "4    [TaylorKitsch, LynnCollins, SamanthaMorton]     [AndrewStanton]  "
      ]
     },
     "execution_count": 63,
     "metadata": {},
     "output_type": "execute_result"
    }
   ],
   "source": [
    "df.head()"
   ]
  },
  {
   "cell_type": "code",
   "execution_count": 64,
   "id": "e3e3ce95",
   "metadata": {},
   "outputs": [],
   "source": [
    "df['tags']=df['genres']+df['keywords']+df['overview']+df['cast']+df['crew']"
   ]
  },
  {
   "cell_type": "code",
   "execution_count": 65,
   "id": "ada95e3f",
   "metadata": {},
   "outputs": [],
   "source": [
    "df=df[['id','title','tags']]"
   ]
  },
  {
   "cell_type": "markdown",
   "id": "a350d7dc",
   "metadata": {},
   "source": [
    "##### Now the tags columns is the mmain column for us now lets process it"
   ]
  },
  {
   "cell_type": "code",
   "execution_count": 66,
   "id": "3c49c48a",
   "metadata": {},
   "outputs": [],
   "source": [
    "#we need to convert the tags column into string\n",
    "\n",
    "df['tags']=df['tags'].apply(lambda x:\" \".join(x))"
   ]
  },
  {
   "cell_type": "code",
   "execution_count": 67,
   "id": "fe073b49",
   "metadata": {},
   "outputs": [],
   "source": [
    "#to convert this into lowercase\n",
    "\n",
    "df['tags']=df['tags'].apply(lambda x:x.lower())"
   ]
  },
  {
   "cell_type": "markdown",
   "id": "4a12e6ee",
   "metadata": {},
   "source": [
    " #### To make the Columns machine ready"
   ]
  },
  {
   "cell_type": "markdown",
   "id": "03f35cab",
   "metadata": {},
   "source": [
    "to stem the data"
   ]
  },
  {
   "cell_type": "code",
   "execution_count": 68,
   "id": "08715431",
   "metadata": {},
   "outputs": [],
   "source": [
    "import nltk\n",
    "from nltk.stem.porter import PorterStemmer\n",
    "ps=PorterStemmer()\n",
    "\n",
    "def stem(text):\n",
    "    y=[]\n",
    "    for i in text.split():\n",
    "        y.append(ps.stem(i))\n",
    "    return \" \".join(y)\n",
    "\n",
    "df['tags']=df['tags'].apply(stem)"
   ]
  },
  {
   "cell_type": "markdown",
   "id": "41e2ffce",
   "metadata": {},
   "source": [
    "to vectorize "
   ]
  },
  {
   "cell_type": "code",
   "execution_count": 69,
   "id": "5d30fe02",
   "metadata": {},
   "outputs": [],
   "source": [
    "from sklearn.feature_extraction.text import CountVectorizer\n",
    "cv=CountVectorizer(max_features=5000,stop_words='english')\n",
    "\n",
    "vector=cv.fit_transform(df['tags']).toarray()"
   ]
  },
  {
   "cell_type": "code",
   "execution_count": 70,
   "id": "8981bd9f",
   "metadata": {},
   "outputs": [
    {
     "data": {
      "text/plain": [
       "array([0, 0, 0, ..., 0, 0, 0], dtype=int64)"
      ]
     },
     "execution_count": 70,
     "metadata": {},
     "output_type": "execute_result"
    }
   ],
   "source": [
    "vector[0]"
   ]
  },
  {
   "cell_type": "code",
   "execution_count": 71,
   "id": "fd065727",
   "metadata": {},
   "outputs": [
    {
     "data": {
      "text/html": [
       "<div>\n",
       "<style scoped>\n",
       "    .dataframe tbody tr th:only-of-type {\n",
       "        vertical-align: middle;\n",
       "    }\n",
       "\n",
       "    .dataframe tbody tr th {\n",
       "        vertical-align: top;\n",
       "    }\n",
       "\n",
       "    .dataframe thead th {\n",
       "        text-align: right;\n",
       "    }\n",
       "</style>\n",
       "<table border=\"1\" class=\"dataframe\">\n",
       "  <thead>\n",
       "    <tr style=\"text-align: right;\">\n",
       "      <th></th>\n",
       "      <th>id</th>\n",
       "      <th>title</th>\n",
       "      <th>tags</th>\n",
       "    </tr>\n",
       "  </thead>\n",
       "  <tbody>\n",
       "    <tr>\n",
       "      <th>0</th>\n",
       "      <td>19995</td>\n",
       "      <td>Avatar</td>\n",
       "      <td>action adventur fantasi sciencefict culturecla...</td>\n",
       "    </tr>\n",
       "    <tr>\n",
       "      <th>1</th>\n",
       "      <td>285</td>\n",
       "      <td>Pirates of the Caribbean: At World's End</td>\n",
       "      <td>adventur fantasi action ocean drugabus exotici...</td>\n",
       "    </tr>\n",
       "    <tr>\n",
       "      <th>2</th>\n",
       "      <td>206647</td>\n",
       "      <td>Spectre</td>\n",
       "      <td>action adventur crime spi basedonnovel secreta...</td>\n",
       "    </tr>\n",
       "    <tr>\n",
       "      <th>3</th>\n",
       "      <td>49026</td>\n",
       "      <td>The Dark Knight Rises</td>\n",
       "      <td>action crime drama thriller dccomic crimefight...</td>\n",
       "    </tr>\n",
       "    <tr>\n",
       "      <th>4</th>\n",
       "      <td>49529</td>\n",
       "      <td>John Carter</td>\n",
       "      <td>action adventur sciencefict basedonnovel mar m...</td>\n",
       "    </tr>\n",
       "  </tbody>\n",
       "</table>\n",
       "</div>"
      ],
      "text/plain": [
       "       id                                     title  \\\n",
       "0   19995                                    Avatar   \n",
       "1     285  Pirates of the Caribbean: At World's End   \n",
       "2  206647                                   Spectre   \n",
       "3   49026                     The Dark Knight Rises   \n",
       "4   49529                               John Carter   \n",
       "\n",
       "                                                tags  \n",
       "0  action adventur fantasi sciencefict culturecla...  \n",
       "1  adventur fantasi action ocean drugabus exotici...  \n",
       "2  action adventur crime spi basedonnovel secreta...  \n",
       "3  action crime drama thriller dccomic crimefight...  \n",
       "4  action adventur sciencefict basedonnovel mar m...  "
      ]
     },
     "execution_count": 71,
     "metadata": {},
     "output_type": "execute_result"
    }
   ],
   "source": [
    "df.head()"
   ]
  },
  {
   "cell_type": "markdown",
   "id": "29de22db",
   "metadata": {},
   "source": [
    "##### To measure the cosine distance between vectors"
   ]
  },
  {
   "cell_type": "code",
   "execution_count": 72,
   "id": "0c29e65e",
   "metadata": {},
   "outputs": [],
   "source": [
    "from sklearn.metrics.pairwise import cosine_similarity\n",
    "\n",
    "similarity=cosine_similarity(vector)"
   ]
  },
  {
   "cell_type": "code",
   "execution_count": 73,
   "id": "1567798d",
   "metadata": {},
   "outputs": [
    {
     "data": {
      "text/plain": [
       "array([[1.        , 0.08346223, 0.0860309 , ..., 0.04499213, 0.        ,\n",
       "        0.        ],\n",
       "       [0.08346223, 1.        , 0.06063391, ..., 0.02378257, 0.        ,\n",
       "        0.02615329],\n",
       "       [0.0860309 , 0.06063391, 1.        , ..., 0.02451452, 0.        ,\n",
       "        0.        ],\n",
       "       ...,\n",
       "       [0.04499213, 0.02378257, 0.02451452, ..., 1.        , 0.03962144,\n",
       "        0.04229549],\n",
       "       [0.        , 0.        , 0.        , ..., 0.03962144, 1.        ,\n",
       "        0.08714204],\n",
       "       [0.        , 0.02615329, 0.        , ..., 0.04229549, 0.08714204,\n",
       "        1.        ]])"
      ]
     },
     "execution_count": 73,
     "metadata": {},
     "output_type": "execute_result"
    }
   ],
   "source": [
    "similarity"
   ]
  },
  {
   "cell_type": "markdown",
   "id": "f21b8242",
   "metadata": {},
   "source": [
    "### To make the recommendation function\n",
    "\n",
    "we will take the 5 similar movie on the basis of least 5 cosine distance \n",
    "with that movie vector "
   ]
  },
  {
   "cell_type": "code",
   "execution_count": 82,
   "id": "4b22f750",
   "metadata": {},
   "outputs": [],
   "source": [
    "def recommend(movie):\n",
    "    id=df[df['title']==movie].index[0]\n",
    "    dis=similarity[id]\n",
    "    m_list=sorted(list(enumerate(dis)),reverse=True,key=lambda x:x[1])[1:11]\n",
    "    print(\"Recommended Movies :-\")\n",
    "    for i in m_list:\n",
    "        print(df.iloc[i[0]].title)"
   ]
  },
  {
   "cell_type": "markdown",
   "id": "824203ef",
   "metadata": {},
   "source": [
    "### Now Let's Test our function "
   ]
  },
  {
   "cell_type": "code",
   "execution_count": 83,
   "id": "d84db685",
   "metadata": {},
   "outputs": [
    {
     "name": "stdout",
     "output_type": "stream",
     "text": [
      "Recommended Movies :-\n",
      "Aliens vs Predator: Requiem\n",
      "Aliens\n",
      "Falcon Rising\n",
      "Independence Day\n",
      "Titan A.E.\n",
      "Battle: Los Angeles\n",
      "Predators\n",
      "Small Soldiers\n",
      "Jupiter Ascending\n",
      "Meet Dave\n"
     ]
    }
   ],
   "source": [
    "recommend('Avatar')"
   ]
  },
  {
   "cell_type": "code",
   "execution_count": 84,
   "id": "ed790162",
   "metadata": {},
   "outputs": [
    {
     "name": "stdout",
     "output_type": "stream",
     "text": [
      "Recommended Movies :-\n",
      "Iron Man 3\n",
      "Iron Man 2\n",
      "Iron Man\n",
      "Thor\n",
      "The Avengers\n",
      "The Wolverine\n",
      "Captain America: Civil War\n",
      "Ant-Man\n",
      "Thor: The Dark World\n",
      "X-Men Origins: Wolverine\n"
     ]
    }
   ],
   "source": [
    "recommend('Avengers: Age of Ultron')"
   ]
  },
  {
   "cell_type": "markdown",
   "id": "b0fc884b",
   "metadata": {},
   "source": [
    "#### Our Model is Working Fine"
   ]
  },
  {
   "cell_type": "markdown",
   "id": "9c02abbb",
   "metadata": {},
   "source": [
    "### Now Save The Model"
   ]
  },
  {
   "cell_type": "code",
   "execution_count": 87,
   "id": "fb3d8b02",
   "metadata": {},
   "outputs": [],
   "source": [
    "import pickle\n",
    "pickle.dump(df,open('movie_recommender.pkl','wb'))"
   ]
  },
  {
   "cell_type": "markdown",
   "id": "3ed9eac9",
   "metadata": {},
   "source": [
    "# Thank You"
   ]
  },
  {
   "cell_type": "code",
   "execution_count": null,
   "id": "7c361ef6",
   "metadata": {},
   "outputs": [],
   "source": []
  }
 ],
 "metadata": {
  "kernelspec": {
   "display_name": "Python 3",
   "language": "python",
   "name": "python3"
  },
  "language_info": {
   "codemirror_mode": {
    "name": "ipython",
    "version": 3
   },
   "file_extension": ".py",
   "mimetype": "text/x-python",
   "name": "python",
   "nbconvert_exporter": "python",
   "pygments_lexer": "ipython3",
   "version": "3.8.3"
  }
 },
 "nbformat": 4,
 "nbformat_minor": 5
}
